{
 "cells": [
  {
   "cell_type": "code",
   "execution_count": 16,
   "id": "8f269277",
   "metadata": {},
   "outputs": [],
   "source": [
    "import pandas as pd\n",
    "import random"
   ]
  },
  {
   "cell_type": "code",
   "execution_count": 10,
   "id": "58e9a2b5",
   "metadata": {},
   "outputs": [],
   "source": [
    "train_df = pd.read_csv(\"GLC25_PA_metadata_train.csv\")\n",
    "test_df = pd.read_csv(\"GLC25_PA_metadata_test.csv\")"
   ]
  },
  {
   "cell_type": "code",
   "execution_count": 25,
   "id": "a258d6c6",
   "metadata": {},
   "outputs": [
    {
     "data": {
      "text/plain": [
       "Index([  540,  4397,   254,  4499, 10317,  2885,  1964, 10600, 10073, 11140,\n",
       "       ...\n",
       "       10717,  2116,  1536,   497, 10661,   251,  5863,  1802,  3260,  2305],\n",
       "      dtype='int64', name='speciesId', length=5016)"
      ]
     },
     "execution_count": 25,
     "metadata": {},
     "output_type": "execute_result"
    }
   ],
   "source": [
    "train_df.speciesId.astype(int).value_counts().index"
   ]
  },
  {
   "cell_type": "code",
   "execution_count": 30,
   "id": "4ab72701",
   "metadata": {},
   "outputs": [],
   "source": [
    "top1000 = train_df.speciesId.astype(int).value_counts().index.to_list()[:1000]"
   ]
  },
  {
   "cell_type": "code",
   "execution_count": 15,
   "id": "1397872d",
   "metadata": {},
   "outputs": [],
   "source": [
    "survey_ids = test_df.surveyId"
   ]
  },
  {
   "cell_type": "code",
   "execution_count": 17,
   "id": "019976aa",
   "metadata": {},
   "outputs": [],
   "source": [
    "random.seed(113)"
   ]
  },
  {
   "cell_type": "code",
   "execution_count": 31,
   "id": "31ea2098",
   "metadata": {},
   "outputs": [],
   "source": [
    "with open(\"submission-random.csv\", \"w\") as f:\n",
    "    f.write(\"surveyId,predictions\\n\")\n",
    "    for id in survey_ids:\n",
    "        f.write(f\"{id},{\" \".join(map(str, random.sample(top1000, 25)))}\\n\")"
   ]
  },
  {
   "cell_type": "code",
   "execution_count": 32,
   "id": "78458ddd",
   "metadata": {},
   "outputs": [],
   "source": [
    "with open(\"submission-t25.csv\", \"w\") as f:\n",
    "    f.write(\"surveyId,predictions\\n\")\n",
    "    for id in survey_ids:\n",
    "        f.write(f\"{id},{\" \".join(map(str, top1000[:25]))}\\n\")"
   ]
  }
 ],
 "metadata": {
  "kernelspec": {
   "display_name": ".venv",
   "language": "python",
   "name": "python3"
  },
  "language_info": {
   "codemirror_mode": {
    "name": "ipython",
    "version": 3
   },
   "file_extension": ".py",
   "mimetype": "text/x-python",
   "name": "python",
   "nbconvert_exporter": "python",
   "pygments_lexer": "ipython3",
   "version": "3.13.3"
  }
 },
 "nbformat": 4,
 "nbformat_minor": 5
}
